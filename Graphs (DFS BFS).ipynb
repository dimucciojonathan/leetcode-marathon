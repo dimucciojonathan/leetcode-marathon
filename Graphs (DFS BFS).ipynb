{
 "cells": [
  {
   "cell_type": "markdown",
   "metadata": {},
   "source": [
    "## Graph Problems"
   ]
  },
  {
   "cell_type": "markdown",
   "metadata": {},
   "source": [
    "[DFS Great Video](https://www.youtube.com/watch?v=LVlihRYfVVw)"
   ]
  },
  {
   "cell_type": "markdown",
   "metadata": {},
   "source": [
    "## 1. Simple DFS problem: Given an mxm matrix, the first square is 1 and the rest are 0's. All 1's are adjacent to the first. How many 1's are in the matrix?"
   ]
  },
  {
   "cell_type": "code",
   "execution_count": 46,
   "metadata": {},
   "outputs": [
    {
     "data": {
      "text/plain": [
       "4"
      ]
     },
     "execution_count": 46,
     "metadata": {},
     "output_type": "execute_result"
    }
   ],
   "source": [
    "matrix = [[1,0,0],[1,1,0],[0,1,0]]\n",
    "\n",
    "def dfs(matrix, r, c, count):\n",
    "    # Check conditions\n",
    "    if (r < 0) or (r >= len(matrix)) or (c < 0) or (c >= len(matrix[0])):\n",
    "        return count\n",
    "    if matrix[r][c] == 0:\n",
    "        return count\n",
    "    \n",
    "    # Process cell\n",
    "    count += 1\n",
    "    matrix[r][c] = 0\n",
    "    \n",
    "    # Continue DFS\n",
    "    count = dfs(matrix, r-1, c, count)\n",
    "    count = dfs(matrix, r+1, c, count)\n",
    "    count = dfs(matrix, r, c-1, count)\n",
    "    count = dfs(matrix, r, c+1, count)\n",
    "    return count\n",
    "    \n",
    "\n",
    "def numOnes(matrix):\n",
    "    count = 0 \n",
    "    count = dfs(matrix, 0, 0, count)\n",
    "    return count\n",
    "\n",
    "numOnes(matrix)"
   ]
  },
  {
   "cell_type": "code",
   "execution_count": 10,
   "metadata": {},
   "outputs": [],
   "source": [
    "arr1 = set((1,2))\n",
    "arr2 = set((1,2))\n",
    "if (1,2) in arr1 and arr2:\n",
    "    print('True')"
   ]
  },
  {
   "cell_type": "code",
   "execution_count": 11,
   "metadata": {},
   "outputs": [
    {
     "data": {
      "text/plain": [
       "{1, 2}"
      ]
     },
     "execution_count": 11,
     "metadata": {},
     "output_type": "execute_result"
    }
   ],
   "source": [
    "arr1"
   ]
  },
  {
   "cell_type": "code",
   "execution_count": 12,
   "metadata": {},
   "outputs": [],
   "source": [
    "s = set()\n",
    "s.add((1,2))"
   ]
  },
  {
   "cell_type": "code",
   "execution_count": 13,
   "metadata": {},
   "outputs": [
    {
     "data": {
      "text/plain": [
       "{(1, 2)}"
      ]
     },
     "execution_count": 13,
     "metadata": {},
     "output_type": "execute_result"
    }
   ],
   "source": [
    "s"
   ]
  },
  {
   "cell_type": "code",
   "execution_count": null,
   "metadata": {},
   "outputs": [],
   "source": []
  }
 ],
 "metadata": {
  "kernelspec": {
   "display_name": "Python 3",
   "language": "python",
   "name": "python3"
  },
  "language_info": {
   "codemirror_mode": {
    "name": "ipython",
    "version": 3
   },
   "file_extension": ".py",
   "mimetype": "text/x-python",
   "name": "python",
   "nbconvert_exporter": "python",
   "pygments_lexer": "ipython3",
   "version": "3.7.7"
  }
 },
 "nbformat": 4,
 "nbformat_minor": 4
}
